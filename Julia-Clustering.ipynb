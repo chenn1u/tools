{
 "cells": [
  {
   "cell_type": "code",
   "execution_count": 2,
   "metadata": {},
   "outputs": [],
   "source": [
    "using Clustering\n",
    "using Distances"
   ]
  },
  {
   "cell_type": "markdown",
   "metadata": {},
   "source": [
    "size(X) = 5, 1000\n",
    "\n",
    "共 1000 个样本，每个样本 5 个维度"
   ]
  },
  {
   "cell_type": "code",
   "execution_count": 3,
   "metadata": {},
   "outputs": [
    {
     "data": {
      "text/plain": [
       "5×1000 Array{Float64,2}:\n",
       " 0.976592  0.270316   0.194907  …  0.0320672  0.0201781    0.265957\n",
       " 0.106291  0.979153   0.776611     0.352896   0.829571     0.0867114\n",
       " 0.168707  0.342735   0.429784     0.790582   0.460889     0.0109375\n",
       " 0.385007  0.0829073  0.450724     0.747806   0.000218075  0.0460773\n",
       " 0.146155  0.811779   0.165465     0.376709   0.341554     0.687022"
      ]
     },
     "execution_count": 3,
     "metadata": {},
     "output_type": "execute_result"
    }
   ],
   "source": [
    "X = rand(5, 1000)"
   ]
  },
  {
   "cell_type": "markdown",
   "metadata": {},
   "source": [
    "# K-means"
   ]
  },
  {
   "cell_type": "code",
   "execution_count": 4,
   "metadata": {},
   "outputs": [
    {
     "name": "stdout",
     "output_type": "stream",
     "text": [
      "search: \u001b[0m\u001b[1mk\u001b[22m\u001b[0m\u001b[1mm\u001b[22m\u001b[0m\u001b[1me\u001b[22m\u001b[0m\u001b[1ma\u001b[22m\u001b[0m\u001b[1mn\u001b[22m\u001b[0m\u001b[1ms\u001b[22m \u001b[0m\u001b[1mk\u001b[22m\u001b[0m\u001b[1mm\u001b[22m\u001b[0m\u001b[1me\u001b[22m\u001b[0m\u001b[1ma\u001b[22m\u001b[0m\u001b[1mn\u001b[22m\u001b[0m\u001b[1ms\u001b[22m! \u001b[0m\u001b[1mk\u001b[22m\u001b[0m\u001b[1mm\u001b[22m\u001b[0m\u001b[1me\u001b[22m\u001b[0m\u001b[1ma\u001b[22m\u001b[0m\u001b[1mn\u001b[22m\u001b[0m\u001b[1ms\u001b[22m_opts \u001b[0m\u001b[1mK\u001b[22m\u001b[0m\u001b[1mm\u001b[22m\u001b[0m\u001b[1me\u001b[22m\u001b[0m\u001b[1ma\u001b[22m\u001b[0m\u001b[1mn\u001b[22m\u001b[0m\u001b[1ms\u001b[22mResult\n",
      "\n"
     ]
    },
    {
     "data": {
      "text/latex": [
       "\\begin{verbatim}\n",
       "kmeans(X, k, [...]) -> KmeansResult\n",
       "\\end{verbatim}\n",
       "K-means clustering of the $d×n$ data matrix \\texttt{X} (each column of \\texttt{X} is a $d$-dimensional data point) into \\texttt{k} clusters.\n",
       "\n",
       "\\section{Arguments}\n",
       "\\begin{itemize}\n",
       "\\item \\texttt{init} (defaults to \\texttt{:kmpp}): how cluster seeds should be initialized, could be one of the following:\n",
       "\n",
       "\\begin{itemize}\n",
       "\\item a \\texttt{Symbol}, the name of a seeding algorithm (see \\href{@ref}{Seeding} for a list of supported methods);\n",
       "\n",
       "\n",
       "\\item an instance of \\href{@ref}{\\texttt{SeedingAlgorithm}};\n",
       "\n",
       "\n",
       "\\item an integer vector of length $k$ that provides the indices of points to use as initial seeds.\n",
       "\n",
       "\\end{itemize}\n",
       "\n",
       "\\item \\texttt{weights}: $n$-element vector of point weights (the cluster centers are the weighted means of cluster members)\n",
       "\n",
       "\n",
       "\\item \\texttt{maxiter}, \\texttt{tol}, \\texttt{display}: see \\href{@ref common_options}{common options}\n",
       "\n",
       "\\end{itemize}\n"
      ],
      "text/markdown": [
       "```\n",
       "kmeans(X, k, [...]) -> KmeansResult\n",
       "```\n",
       "\n",
       "K-means clustering of the $d×n$ data matrix `X` (each column of `X` is a $d$-dimensional data point) into `k` clusters.\n",
       "\n",
       "# Arguments\n",
       "\n",
       "  * `init` (defaults to `:kmpp`): how cluster seeds should be initialized, could be one of the following:\n",
       "\n",
       "      * a `Symbol`, the name of a seeding algorithm (see [Seeding](@ref) for a list of supported methods);\n",
       "      * an instance of [`SeedingAlgorithm`](@ref);\n",
       "      * an integer vector of length $k$ that provides the indices of points to use as initial seeds.\n",
       "  * `weights`: $n$-element vector of point weights (the cluster centers are the weighted means of cluster members)\n",
       "  * `maxiter`, `tol`, `display`: see [common options](@ref common_options)\n"
      ],
      "text/plain": [
       "\u001b[36m  kmeans(X, k, [...]) -> KmeansResult\u001b[39m\n",
       "\n",
       "  K-means clustering of the \u001b[35md×n\u001b[39m data matrix \u001b[36mX\u001b[39m (each column of \u001b[36mX\u001b[39m is a\n",
       "  \u001b[35md\u001b[39m-dimensional data point) into \u001b[36mk\u001b[39m clusters.\n",
       "\n",
       "\u001b[1m  Arguments\u001b[22m\n",
       "\u001b[1m  ≡≡≡≡≡≡≡≡≡≡≡\u001b[22m\n",
       "\n",
       "    •    \u001b[36minit\u001b[39m (defaults to \u001b[36m:kmpp\u001b[39m): how cluster seeds should be initialized,\n",
       "        could be one of the following:\n",
       "      \n",
       "          •    a \u001b[36mSymbol\u001b[39m, the name of a seeding algorithm (see Seeding\n",
       "              for a list of supported methods);\n",
       "      \n",
       "          •    an instance of \u001b[36mSeedingAlgorithm\u001b[39m;\n",
       "      \n",
       "          •    an integer vector of length \u001b[35mk\u001b[39m that provides the indices\n",
       "              of points to use as initial seeds.\n",
       "\n",
       "    •    \u001b[36mweights\u001b[39m: \u001b[35mn\u001b[39m-element vector of point weights (the cluster centers\n",
       "        are the weighted means of cluster members)\n",
       "\n",
       "    •    \u001b[36mmaxiter\u001b[39m, \u001b[36mtol\u001b[39m, \u001b[36mdisplay\u001b[39m: see common options"
      ]
     },
     "execution_count": 4,
     "metadata": {},
     "output_type": "execute_result"
    }
   ],
   "source": [
    "?kmeans"
   ]
  },
  {
   "cell_type": "markdown",
   "metadata": {},
   "source": [
    "## 聚类成 20 个簇"
   ]
  },
  {
   "cell_type": "markdown",
   "metadata": {},
   "source": [
    "`maxiter=200, display=:final` 是控制参数\n",
    "- `maxiter`:表示最多迭代次数\n",
    "- `display`:控制运行过程的显示"
   ]
  },
  {
   "cell_type": "code",
   "execution_count": 5,
   "metadata": {},
   "outputs": [
    {
     "name": "stdout",
     "output_type": "stream",
     "text": [
      "K-means converged with 15 iterations (objv = 127.52172034389041)\n"
     ]
    },
    {
     "data": {
      "text/plain": [
       "KmeansResult{Array{Float64,2},Float64,Int64}([0.8059557057739875 0.14519116704152848 … 0.7625717709763038 0.7624234622930305; 0.2919498000638493 0.21536729253877324 … 0.6831592771475585 0.7330431722105059; … ; 0.7461501691648674 0.7271587670462144 … 0.2379324592714719 0.18121608777042222; 0.1921893328729128 0.8115688281258859 … 0.23979845931272076 0.7384051045096], [13, 14, 12, 7, 20, 2, 11, 3, 20, 19  …  14, 2, 3, 20, 6, 20, 11, 17, 12, 3], [0.17132378149799732, 0.09595663646778929, 0.03928344263321404, 0.16425757838790567, 0.0580382075582242, 0.06397417343981937, 0.12475610864958941, 0.05913073651982481, 0.08807883239095027, 0.06965143117358119  …  0.14152665023489064, 0.1348427776355825, 0.15269956490351855, 0.05849964827377896, 0.0812279963260858, 0.12090361675138439, 0.07359705124920524, 0.07666017664144098, 0.22622232692866584, 0.15640347185074455], [46, 43, 51, 59, 49, 44, 63, 46, 49, 39, 48, 55, 49, 68, 47, 51, 38, 45, 63, 47], [46, 43, 51, 59, 49, 44, 63, 46, 49, 39, 48, 55, 49, 68, 47, 51, 38, 45, 63, 47], 127.52172034389041, 15, true)"
      ]
     },
     "execution_count": 5,
     "metadata": {},
     "output_type": "execute_result"
    }
   ],
   "source": [
    "R = kmeans(X, 20; maxiter=200, display=:final)"
   ]
  },
  {
   "cell_type": "markdown",
   "metadata": {},
   "source": [
    "指定距离计算方法"
   ]
  },
  {
   "cell_type": "code",
   "execution_count": 6,
   "metadata": {},
   "outputs": [
    {
     "name": "stdout",
     "output_type": "stream",
     "text": [
      "K-means converged with 23 iterations (objv = 29.1740469784972)\n"
     ]
    },
    {
     "data": {
      "text/plain": [
       "KmeansResult{Array{Float64,2},Float64,Int64}([0.7533536326677049 0.16976635980530494 … 0.7263472590079759 0.6951542578395388; 0.6587116211670324 0.6417070062967655 … 0.2704440277481539 0.7090431826452005; … ; 0.6765557899160249 0.25718334794630554 … 0.6629578574088217 0.2742056546455547; 0.22919670106679282 0.24637070282807066 … 0.626885367873339 0.6451062831887365], [4, 12, 17, 8, 5, 3, 10, 12, 5, 9  …  16, 3, 3, 5, 1, 5, 9, 14, 12, 18], [0.08531339264981275, 0.011112844873969241, 0.04174304094876691, 0.030617661949576158, 0.011670800431527018, 0.03912828309126648, 0.034523952350899, 0.013124068241327391, 0.006762931347070289, 0.011312579583764082  …  0.022407623407777022, 0.015172497302914034, 0.06694013625252482, 0.006459108206581909, 0.03530621476035167, 0.00313987270634275, 0.026505890181853453, 0.03359878393357374, 0.0893853763410919, 0.10283589689642669], [62, 35, 36, 43, 37, 66, 43, 48, 42, 54, 50, 56, 51, 43, 49, 51, 55, 51, 82, 46], [62, 35, 36, 43, 37, 66, 43, 48, 42, 54, 50, 56, 51, 43, 49, 51, 55, 51, 82, 46], 29.1740469784972, 23, true)"
      ]
     },
     "execution_count": 6,
     "metadata": {},
     "output_type": "execute_result"
    }
   ],
   "source": [
    "R = kmeans(X, 20; distance=CosineDist(), maxiter=200, display=:final)"
   ]
  },
  {
   "cell_type": "markdown",
   "metadata": {},
   "source": [
    "## 显示每个样本被分配到的簇"
   ]
  },
  {
   "cell_type": "code",
   "execution_count": 7,
   "metadata": {},
   "outputs": [
    {
     "data": {
      "text/plain": [
       "1000-element Array{Int64,1}:\n",
       "  4\n",
       " 12\n",
       " 17\n",
       "  8\n",
       "  5\n",
       "  3\n",
       " 10\n",
       " 12\n",
       "  5\n",
       "  9\n",
       "  1\n",
       " 15\n",
       "  5\n",
       "  ⋮\n",
       " 13\n",
       " 17\n",
       " 16\n",
       "  3\n",
       "  3\n",
       "  5\n",
       "  1\n",
       "  5\n",
       "  9\n",
       " 14\n",
       " 12\n",
       " 18"
      ]
     },
     "execution_count": 7,
     "metadata": {},
     "output_type": "execute_result"
    }
   ],
   "source": [
    "a = assignments(R)"
   ]
  },
  {
   "cell_type": "markdown",
   "metadata": {},
   "source": [
    "## 获取被分到簇 1 的元素索引"
   ]
  },
  {
   "cell_type": "code",
   "execution_count": 8,
   "metadata": {},
   "outputs": [
    {
     "data": {
      "text/plain": [
       "62-element Array{Int64,1}:\n",
       "  11\n",
       "  38\n",
       "  57\n",
       "  98\n",
       " 101\n",
       " 138\n",
       " 139\n",
       " 157\n",
       " 158\n",
       " 220\n",
       " 227\n",
       " 234\n",
       " 243\n",
       "   ⋮\n",
       " 871\n",
       " 887\n",
       " 899\n",
       " 917\n",
       " 930\n",
       " 938\n",
       " 941\n",
       " 942\n",
       " 953\n",
       " 959\n",
       " 977\n",
       " 995"
      ]
     },
     "execution_count": 8,
     "metadata": {},
     "output_type": "execute_result"
    }
   ],
   "source": [
    "findall(a .== 1)"
   ]
  },
  {
   "cell_type": "markdown",
   "metadata": {},
   "source": [
    "## 获取每个簇的样本个数"
   ]
  },
  {
   "cell_type": "code",
   "execution_count": 9,
   "metadata": {},
   "outputs": [
    {
     "data": {
      "text/plain": [
       "20-element Array{Int64,1}:\n",
       " 62\n",
       " 35\n",
       " 36\n",
       " 43\n",
       " 37\n",
       " 66\n",
       " 43\n",
       " 48\n",
       " 42\n",
       " 54\n",
       " 50\n",
       " 56\n",
       " 51\n",
       " 43\n",
       " 49\n",
       " 51\n",
       " 55\n",
       " 51\n",
       " 82\n",
       " 46"
      ]
     },
     "execution_count": 9,
     "metadata": {},
     "output_type": "execute_result"
    }
   ],
   "source": [
    "c = counts(R)"
   ]
  },
  {
   "cell_type": "markdown",
   "metadata": {},
   "source": [
    "# DBSCAN"
   ]
  },
  {
   "cell_type": "code",
   "execution_count": 10,
   "metadata": {},
   "outputs": [
    {
     "name": "stdout",
     "output_type": "stream",
     "text": [
      "search: \u001b[0m\u001b[1md\u001b[22m\u001b[0m\u001b[1mb\u001b[22m\u001b[0m\u001b[1ms\u001b[22m\u001b[0m\u001b[1mc\u001b[22m\u001b[0m\u001b[1ma\u001b[22m\u001b[0m\u001b[1mn\u001b[22m \u001b[0m\u001b[1mD\u001b[22m\u001b[0m\u001b[1mb\u001b[22m\u001b[0m\u001b[1ms\u001b[22m\u001b[0m\u001b[1mc\u001b[22m\u001b[0m\u001b[1ma\u001b[22m\u001b[0m\u001b[1mn\u001b[22mResult \u001b[0m\u001b[1mD\u001b[22m\u001b[0m\u001b[1mb\u001b[22m\u001b[0m\u001b[1ms\u001b[22m\u001b[0m\u001b[1mc\u001b[22m\u001b[0m\u001b[1ma\u001b[22m\u001b[0m\u001b[1mn\u001b[22mCluster\n",
      "\n"
     ]
    },
    {
     "data": {
      "text/latex": [
       "\\begin{verbatim}\n",
       "dbscan(D::AbstractMatrix, eps::Real, minpts::Int) -> DbscanResult\n",
       "\\end{verbatim}\n",
       "Perform DBSCAN algorithm using the distance matrix \\texttt{D}.\n",
       "\n",
       "\\section{Arguments}\n",
       "The following options control which points would be considered \\emph{density reachable}:\n",
       "\n",
       "\\begin{itemize}\n",
       "\\item \\texttt{eps::Real}: the radius of a point neighborhood\n",
       "\n",
       "\n",
       "\\item \\texttt{minpts::Int}: the minimum number of neighboring points (including itself)  to qualify a point as a density point.\n",
       "\n",
       "\\end{itemize}\n",
       "\\rule{\\textwidth}{1pt}\n",
       "\\begin{verbatim}\n",
       "dbscan(points::AbstractMatrix, radius::Real,\n",
       "       [leafsize], [min_neighbors], [min_cluster_size]) -> Vector{DbscanCluster}\n",
       "\\end{verbatim}\n",
       "Cluster \\texttt{points} using the DBSCAN (density-based spatial clustering of applications with noise) algorithm.\n",
       "\n",
       "\\section{Arguments}\n",
       "\\begin{itemize}\n",
       "\\item \\texttt{points}: the $d×n$ matrix of points. \\texttt{points[:, j]} is a $d$-dimensional coordinates of $j$-th point\n",
       "\n",
       "\n",
       "\\item \\texttt{radius::Real}: query radius\n",
       "\n",
       "\\end{itemize}\n",
       "Optional keyword arguments to control the algorithm:\n",
       "\n",
       "\\begin{itemize}\n",
       "\\item \\texttt{leafsize::Int} (defaults to 20): the number of points binned in each leaf node in the \\texttt{KDTree}\n",
       "\n",
       "\n",
       "\\item \\texttt{min\\_neighbors::Int} (defaults to 1): the minimum number of a \\emph{core} point neighbors\n",
       "\n",
       "\n",
       "\\item \\texttt{min\\_cluster\\_size::Int} (defaults to 1): the minimum number of points in a valid cluster\n",
       "\n",
       "\\end{itemize}\n",
       "\\section{Example}\n",
       "\\begin{verbatim}\n",
       "points = randn(3, 10000)\n",
       "# DBSCAN clustering, clusters with less than 20 points will be discarded:\n",
       "clusters = dbscan(points, 0.05, min_neighbors = 3, min_cluster_size = 20)\n",
       "\\end{verbatim}\n"
      ],
      "text/markdown": [
       "```\n",
       "dbscan(D::AbstractMatrix, eps::Real, minpts::Int) -> DbscanResult\n",
       "```\n",
       "\n",
       "Perform DBSCAN algorithm using the distance matrix `D`.\n",
       "\n",
       "# Arguments\n",
       "\n",
       "The following options control which points would be considered *density reachable*:\n",
       "\n",
       "  * `eps::Real`: the radius of a point neighborhood\n",
       "  * `minpts::Int`: the minimum number of neighboring points (including itself)  to qualify a point as a density point.\n",
       "\n",
       "---\n",
       "\n",
       "```\n",
       "dbscan(points::AbstractMatrix, radius::Real,\n",
       "       [leafsize], [min_neighbors], [min_cluster_size]) -> Vector{DbscanCluster}\n",
       "```\n",
       "\n",
       "Cluster `points` using the DBSCAN (density-based spatial clustering of applications with noise) algorithm.\n",
       "\n",
       "# Arguments\n",
       "\n",
       "  * `points`: the $d×n$ matrix of points. `points[:, j]` is a $d$-dimensional coordinates of $j$-th point\n",
       "  * `radius::Real`: query radius\n",
       "\n",
       "Optional keyword arguments to control the algorithm:\n",
       "\n",
       "  * `leafsize::Int` (defaults to 20): the number of points binned in each leaf node in the `KDTree`\n",
       "  * `min_neighbors::Int` (defaults to 1): the minimum number of a *core* point neighbors\n",
       "  * `min_cluster_size::Int` (defaults to 1): the minimum number of points in a valid cluster\n",
       "\n",
       "# Example\n",
       "\n",
       "```julia\n",
       "points = randn(3, 10000)\n",
       "# DBSCAN clustering, clusters with less than 20 points will be discarded:\n",
       "clusters = dbscan(points, 0.05, min_neighbors = 3, min_cluster_size = 20)\n",
       "```\n"
      ],
      "text/plain": [
       "\u001b[36m  dbscan(D::AbstractMatrix, eps::Real, minpts::Int) -> DbscanResult\u001b[39m\n",
       "\n",
       "  Perform DBSCAN algorithm using the distance matrix \u001b[36mD\u001b[39m.\n",
       "\n",
       "\u001b[1m  Arguments\u001b[22m\n",
       "\u001b[1m  ≡≡≡≡≡≡≡≡≡≡≡\u001b[22m\n",
       "\n",
       "  The following options control which points would be considered \u001b[4mdensity\n",
       "  reachable\u001b[24m:\n",
       "\n",
       "    •    \u001b[36meps::Real\u001b[39m: the radius of a point neighborhood\n",
       "\n",
       "    •    \u001b[36mminpts::Int\u001b[39m: the minimum number of neighboring points (including\n",
       "        itself) to qualify a point as a density point.\n",
       "\n",
       "  ────────────────────────────────────────────────────────────────────────────\n",
       "\n",
       "\u001b[36m  dbscan(points::AbstractMatrix, radius::Real,\u001b[39m\n",
       "\u001b[36m         [leafsize], [min_neighbors], [min_cluster_size]) -> Vector{DbscanCluster}\u001b[39m\n",
       "\n",
       "  Cluster \u001b[36mpoints\u001b[39m using the DBSCAN (density-based spatial clustering of\n",
       "  applications with noise) algorithm.\n",
       "\n",
       "\u001b[1m  Arguments\u001b[22m\n",
       "\u001b[1m  ≡≡≡≡≡≡≡≡≡≡≡\u001b[22m\n",
       "\n",
       "    •    \u001b[36mpoints\u001b[39m: the \u001b[35md×n\u001b[39m matrix of points. \u001b[36mpoints[:, j]\u001b[39m is a \u001b[35md\u001b[39m-dimensional\n",
       "        coordinates of \u001b[35mj\u001b[39m-th point\n",
       "\n",
       "    •    \u001b[36mradius::Real\u001b[39m: query radius\n",
       "\n",
       "  Optional keyword arguments to control the algorithm:\n",
       "\n",
       "    •    \u001b[36mleafsize::Int\u001b[39m (defaults to 20): the number of points binned in\n",
       "        each leaf node in the \u001b[36mKDTree\u001b[39m\n",
       "\n",
       "    •    \u001b[36mmin_neighbors::Int\u001b[39m (defaults to 1): the minimum number of a \u001b[4mcore\u001b[24m\n",
       "        point neighbors\n",
       "\n",
       "    •    \u001b[36mmin_cluster_size::Int\u001b[39m (defaults to 1): the minimum number of\n",
       "        points in a valid cluster\n",
       "\n",
       "\u001b[1m  Example\u001b[22m\n",
       "\u001b[1m  ≡≡≡≡≡≡≡≡≡\u001b[22m\n",
       "\n",
       "\u001b[36m  points = randn(3, 10000)\u001b[39m\n",
       "\u001b[36m  # DBSCAN clustering, clusters with less than 20 points will be discarded:\u001b[39m\n",
       "\u001b[36m  clusters = dbscan(points, 0.05, min_neighbors = 3, min_cluster_size = 20)\u001b[39m"
      ]
     },
     "execution_count": 10,
     "metadata": {},
     "output_type": "execute_result"
    }
   ],
   "source": [
    "?dbscan"
   ]
  },
  {
   "cell_type": "code",
   "execution_count": 11,
   "metadata": {},
   "outputs": [
    {
     "data": {
      "text/plain": [
       "3×10000 Array{Float64,2}:\n",
       " -0.723446   0.361624   1.59997  …  -1.40172   -0.0592423  -0.815944\n",
       "  0.82912   -0.81516   -2.39588      1.53952    0.301336    2.03407\n",
       "  0.895941  -0.950706  -1.73036     -0.744116   2.16666     0.33867"
      ]
     },
     "execution_count": 11,
     "metadata": {},
     "output_type": "execute_result"
    }
   ],
   "source": [
    "points = randn(3, 10000)"
   ]
  },
  {
   "cell_type": "markdown",
   "metadata": {},
   "source": [
    "### 方式一"
   ]
  },
  {
   "cell_type": "markdown",
   "metadata": {},
   "source": [
    "两个参数需要好好调\n",
    "- `eps`\n",
    "- `minPts`"
   ]
  },
  {
   "cell_type": "code",
   "execution_count": 24,
   "metadata": {},
   "outputs": [
    {
     "data": {
      "text/plain": [
       "10000×10000 Array{Float64,2}:\n",
       " 0.0      2.70021   4.76407  3.40017  …  1.91168   1.52789   1.3308\n",
       " 2.70021  0.0       2.15408  1.9521      2.949     3.33791   3.34175\n",
       " 4.76407  2.15408   0.0      3.35622     5.0468    5.02143   5.45363\n",
       " 3.40017  1.9521    3.35622  0.0         2.41687   4.60842   3.48157\n",
       " 2.68419  0.809649  2.37123  2.33287     2.98531   3.26045   3.15956\n",
       " 1.6121   2.59018   4.71202  2.28007  …  0.403911  3.12375   1.27628\n",
       " 2.36305  2.04403   3.95046  1.6941      1.41391   3.6579    2.0646\n",
       " 1.13374  2.52463   4.30029  3.82901     2.87351   0.903571  2.2183\n",
       " 2.03429  1.70235   3.18241  3.32101     3.31191   1.96609   3.21283\n",
       " 1.97703  1.77593   3.32138  3.37622     3.09622   2.0549    2.71777\n",
       " 2.52608  2.94568   4.22651  4.21998  …  3.96511   2.10937   3.84297\n",
       " 1.17073  2.2686    4.18097  3.30774     2.27919   1.80638   1.65552\n",
       " 1.87549  2.18813   3.69713  3.65304     3.36028   1.61043   3.15759\n",
       " ⋮                                    ⋱                      \n",
       " 2.47988  1.13146   3.0646   1.11914     2.01313   3.58535   2.72702\n",
       " 1.22969  1.74026   3.65965  2.95794     2.48863   1.7289    2.37948\n",
       " 3.01554  3.09554   3.94129  4.8906   …  4.68172   1.98902   4.22043\n",
       " 1.57127  2.89644   4.75038  3.73842     2.40585   2.15892   1.49274\n",
       " 1.99177  2.4267    4.42857  2.26876     1.09725   3.33637   1.45857\n",
       " 2.31759  0.457428  2.57406  1.92611     2.56166   3.0645    2.89476\n",
       " 2.65148  1.2096    2.3719   3.03556     3.58638   2.72932   3.67642\n",
       " 1.65534  2.44034   4.44024  2.74502  …  1.47707   2.84549   1.22659\n",
       " 2.41365  0.960505  2.74292  1.96907     2.73605   3.11933   3.23535\n",
       " 1.91168  2.949     5.0468   2.41687     0.0       3.43627   1.32671\n",
       " 1.52789  3.33791   5.02143  4.60842     3.43627   0.0       2.62993\n",
       " 1.3308   3.34175   5.45363  3.48157     1.32671   2.62993   0.0"
      ]
     },
     "execution_count": 24,
     "metadata": {},
     "output_type": "execute_result"
    }
   ],
   "source": [
    "D = pairwise(Euclidean(), points, dims=2)"
   ]
  },
  {
   "cell_type": "code",
   "execution_count": 27,
   "metadata": {},
   "outputs": [
    {
     "data": {
      "text/plain": [
       "DbscanResult([1], [1, 1, 1, 1, 1, 1, 1, 1, 1, 1  …  1, 1, 1, 1, 1, 1, 1, 1, 1, 1], [9999])"
      ]
     },
     "execution_count": 27,
     "metadata": {},
     "output_type": "execute_result"
    }
   ],
   "source": [
    "clusters = dbscan(D, 1.5, 200)"
   ]
  },
  {
   "cell_type": "code",
   "execution_count": 28,
   "metadata": {},
   "outputs": [
    {
     "data": {
      "text/plain": [
       "10000-element Array{Int64,1}:\n",
       " 1\n",
       " 1\n",
       " 1\n",
       " 1\n",
       " 1\n",
       " 1\n",
       " 1\n",
       " 1\n",
       " 1\n",
       " 1\n",
       " 1\n",
       " 1\n",
       " 1\n",
       " ⋮\n",
       " 1\n",
       " 1\n",
       " 1\n",
       " 1\n",
       " 1\n",
       " 1\n",
       " 1\n",
       " 1\n",
       " 1\n",
       " 1\n",
       " 1\n",
       " 1"
      ]
     },
     "execution_count": 28,
     "metadata": {},
     "output_type": "execute_result"
    }
   ],
   "source": [
    "a = assignments(clusters)"
   ]
  },
  {
   "cell_type": "code",
   "execution_count": 29,
   "metadata": {},
   "outputs": [
    {
     "data": {
      "text/plain": [
       "9999-element Array{Int64,1}:\n",
       "     1\n",
       "     2\n",
       "     3\n",
       "     4\n",
       "     5\n",
       "     6\n",
       "     7\n",
       "     8\n",
       "     9\n",
       "    10\n",
       "    11\n",
       "    12\n",
       "    13\n",
       "     ⋮\n",
       "  9989\n",
       "  9990\n",
       "  9991\n",
       "  9992\n",
       "  9993\n",
       "  9994\n",
       "  9995\n",
       "  9996\n",
       "  9997\n",
       "  9998\n",
       "  9999\n",
       " 10000"
      ]
     },
     "execution_count": 29,
     "metadata": {},
     "output_type": "execute_result"
    }
   ],
   "source": [
    "findall(a .== 1)"
   ]
  },
  {
   "cell_type": "code",
   "execution_count": 31,
   "metadata": {},
   "outputs": [
    {
     "data": {
      "text/plain": [
       "1-element Array{Int64,1}:\n",
       " 9999"
      ]
     },
     "execution_count": 31,
     "metadata": {},
     "output_type": "execute_result"
    }
   ],
   "source": [
    "c = counts(clusters)"
   ]
  },
  {
   "cell_type": "markdown",
   "metadata": {},
   "source": [
    "### 方式二"
   ]
  },
  {
   "cell_type": "code",
   "execution_count": 32,
   "metadata": {},
   "outputs": [
    {
     "data": {
      "text/plain": [
       "53-element Array{DbscanCluster,1}:\n",
       " DbscanCluster(15, [59, 2217, 2440, 3143, 6535, 7008, 7572, 7591, 9771], [1785, 2339, 5149, 6217, 7749, 8330])\n",
       " DbscanCluster(22, [130, 2528, 3916, 4579, 5019, 5287, 6388, 6820, 7603, 8933, 9297, 9887], [102, 1642, 2238, 2823, 4381, 5732, 5936, 6552, 7028, 8561])\n",
       " DbscanCluster(14, [136, 629, 780, 2451, 8534, 9840], [436, 1375, 3928, 5267, 6218, 7251, 7534, 8809])\n",
       " DbscanCluster(12, [146, 2274, 2968, 4254, 6176, 7940, 8075, 8375, 9461], [3399, 4856, 8693])\n",
       " DbscanCluster(29, [218, 1482, 1747, 2485, 2519, 3554, 4230, 4658, 5449, 5541, 6016, 7030, 7226, 7557, 7998, 8651, 9273], [672, 1530, 1970, 2073, 3662, 3679, 4643, 5699, 5934, 8120, 8152, 8538])\n",
       " DbscanCluster(15, [222, 306, 725, 4159, 6509, 8233, 8481], [3378, 5370, 7129, 7422, 8124, 8683, 9058, 9930])\n",
       " DbscanCluster(29, [232, 1138, 1150, 1243, 2609, 2701, 3146, 3669, 3968, 4114, 4973, 5330, 6094, 6971, 7373, 7539, 8111, 9067, 9306], [520, 2292, 3839, 4934, 4944, 7893, 7894, 8228, 9262, 9690])\n",
       " DbscanCluster(71, [239, 785, 1118, 1142, 1299, 1451, 1549, 1686, 1783, 1787  …  7409, 8184, 8635, 8694, 9420, 9497, 9507, 9517, 9611, 9828], [35, 48, 1334, 2627, 2636, 2896, 3749, 3819, 4312, 4714  …  7094, 7392, 7418, 7500, 7689, 8318, 8640, 9014, 9177, 9664])\n",
       " DbscanCluster(37, [240, 586, 765, 1837, 1863, 2586, 2821, 3072, 3092, 3367  …  4513, 5152, 6516, 7551, 7769, 8442, 8900, 9182, 9198, 9372], [581, 1497, 2317, 2969, 4417, 5223, 5761, 6155, 6393, 7092, 8060, 8497, 8668, 9680, 9694])\n",
       " DbscanCluster(11, [307, 1053, 1495, 3756, 5738, 5755, 8579, 9640], [1615, 8927, 9803])\n",
       " DbscanCluster(11, [314, 940, 1038, 4396, 5899, 7747, 7900], [704, 5349, 7454, 9146])\n",
       " DbscanCluster(11, [316, 684, 897, 1402, 3856, 8321], [9, 5087, 5328, 6119, 9445])\n",
       " DbscanCluster(10, [336, 2559, 4476, 6484, 9061, 9960], [376, 2614, 4987, 9430])\n",
       " ⋮\n",
       " DbscanCluster(13, [1926, 1942, 2327, 6583, 6632, 9331], [3075, 3608, 5329, 7926, 8895, 8932, 9151])\n",
       " DbscanCluster(11, [2003, 2811, 3376, 4680, 5876, 7379, 7958, 9785], [1198, 1665, 3178])\n",
       " DbscanCluster(18, [2020, 2493, 3074, 3623, 4470, 4905, 5254, 5616, 6164, 6612, 6900, 9086], [1564, 3287, 3814, 4477, 7479, 8671])\n",
       " DbscanCluster(12, [2102, 2185, 2633, 2900, 7044, 7588], [1432, 2547, 2705, 4844, 8523, 9871])\n",
       " DbscanCluster(18, [2371, 2500, 2711, 3108, 4075, 4136, 4533, 5259, 5602, 5758, 7511, 7970, 8614], [3353, 3446, 5082, 5421, 7859])\n",
       " DbscanCluster(12, [2417, 3550, 5618, 5756, 7757], [603, 2445, 3181, 3938, 6928, 6968, 9836])\n",
       " DbscanCluster(22, [2808, 3229, 4458, 5631, 5642, 6432, 6954, 7549, 7878, 8320, 9051], [2037, 3020, 4804, 5318, 5897, 5970, 5983, 7851, 8339, 9177, 9394])\n",
       " DbscanCluster(11, [3211, 4989, 6463, 6824, 7424], [728, 2724, 5721, 5813, 7893, 8228])\n",
       " DbscanCluster(19, [3387, 3997, 4176, 4902, 5662, 7039, 7480, 8118, 8654, 9068, 9498, 9957], [1223, 3069, 3249, 4744, 7274, 9599, 9776])\n",
       " DbscanCluster(11, [3747, 3979, 4118, 5993, 6555, 6797], [622, 970, 5974, 8777, 8981])\n",
       " DbscanCluster(12, [4242, 4263, 5448, 6601, 6621], [114, 866, 4857, 5727, 6200, 8026, 8710])\n",
       " DbscanCluster(10, [4764, 5809, 6223, 6998, 9333], [3107, 6311, 7560, 7739, 9016])"
      ]
     },
     "execution_count": 32,
     "metadata": {},
     "output_type": "execute_result"
    }
   ],
   "source": [
    "# DBSCAN clustering, clusters with less than 20 points will be discarded:\n",
    "clusters = dbscan(points, 0.1, min_neighbors = 3, min_cluster_size = 10)"
   ]
  },
  {
   "cell_type": "code",
   "execution_count": 33,
   "metadata": {},
   "outputs": [
    {
     "data": {
      "text/plain": [
       "DbscanCluster(15, [59, 2217, 2440, 3143, 6535, 7008, 7572, 7591, 9771], [1785, 2339, 5149, 6217, 7749, 8330])"
      ]
     },
     "execution_count": 33,
     "metadata": {},
     "output_type": "execute_result"
    }
   ],
   "source": [
    "clusters[1]"
   ]
  },
  {
   "cell_type": "code",
   "execution_count": 34,
   "metadata": {},
   "outputs": [
    {
     "data": {
      "text/plain": [
       "15"
      ]
     },
     "execution_count": 34,
     "metadata": {},
     "output_type": "execute_result"
    }
   ],
   "source": [
    "clusters[1].size"
   ]
  },
  {
   "cell_type": "code",
   "execution_count": 35,
   "metadata": {},
   "outputs": [
    {
     "data": {
      "text/plain": [
       "9-element Array{Int64,1}:\n",
       "   59\n",
       " 2217\n",
       " 2440\n",
       " 3143\n",
       " 6535\n",
       " 7008\n",
       " 7572\n",
       " 7591\n",
       " 9771"
      ]
     },
     "execution_count": 35,
     "metadata": {},
     "output_type": "execute_result"
    }
   ],
   "source": [
    "clusters[1].core_indices"
   ]
  }
 ],
 "metadata": {
  "kernelspec": {
   "display_name": "Julia 1.5.2",
   "language": "julia",
   "name": "julia-1.5"
  },
  "language_info": {
   "file_extension": ".jl",
   "mimetype": "application/julia",
   "name": "julia",
   "version": "1.5.2"
  }
 },
 "nbformat": 4,
 "nbformat_minor": 4
}
