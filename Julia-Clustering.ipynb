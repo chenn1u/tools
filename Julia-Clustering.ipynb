{
 "cells": [
  {
   "cell_type": "code",
   "execution_count": 25,
   "metadata": {},
   "outputs": [],
   "source": [
    "using Clustering\n",
    "using Distances"
   ]
  },
  {
   "cell_type": "markdown",
   "metadata": {},
   "source": [
    "size(X) = 5, 1000\n",
    "\n",
    "共 1000 个样本，每个样本 5 个维度"
   ]
  },
  {
   "cell_type": "code",
   "execution_count": 2,
   "metadata": {},
   "outputs": [
    {
     "data": {
      "text/plain": [
       "5×1000 Array{Float64,2}:\n",
       " 0.0288637  0.621846   0.932828   0.722302   …  0.151423  0.120793  0.42108\n",
       " 0.747053   0.0501998  0.0502385  0.962247      0.62745   0.647296  0.582338\n",
       " 0.721987   0.349403   0.43969    0.522745      0.963708  0.176446  0.599457\n",
       " 0.414826   0.857406   0.854664   0.0575168     0.124853  0.76234   0.969363\n",
       " 0.465233   0.342736   0.216124   0.147469      0.881442  0.981058  0.505711"
      ]
     },
     "execution_count": 2,
     "metadata": {},
     "output_type": "execute_result"
    }
   ],
   "source": [
    "X = rand(5, 1000)"
   ]
  },
  {
   "cell_type": "markdown",
   "metadata": {},
   "source": [
    "# K-means"
   ]
  },
  {
   "cell_type": "code",
   "execution_count": 22,
   "metadata": {},
   "outputs": [
    {
     "name": "stdout",
     "output_type": "stream",
     "text": [
      "search: \u001b[0m\u001b[1mk\u001b[22m\u001b[0m\u001b[1mm\u001b[22m\u001b[0m\u001b[1me\u001b[22m\u001b[0m\u001b[1ma\u001b[22m\u001b[0m\u001b[1mn\u001b[22m\u001b[0m\u001b[1ms\u001b[22m \u001b[0m\u001b[1mk\u001b[22m\u001b[0m\u001b[1mm\u001b[22m\u001b[0m\u001b[1me\u001b[22m\u001b[0m\u001b[1ma\u001b[22m\u001b[0m\u001b[1mn\u001b[22m\u001b[0m\u001b[1ms\u001b[22m! \u001b[0m\u001b[1mk\u001b[22m\u001b[0m\u001b[1mm\u001b[22m\u001b[0m\u001b[1me\u001b[22m\u001b[0m\u001b[1ma\u001b[22m\u001b[0m\u001b[1mn\u001b[22m\u001b[0m\u001b[1ms\u001b[22m_opts \u001b[0m\u001b[1mK\u001b[22m\u001b[0m\u001b[1mm\u001b[22m\u001b[0m\u001b[1me\u001b[22m\u001b[0m\u001b[1ma\u001b[22m\u001b[0m\u001b[1mn\u001b[22m\u001b[0m\u001b[1ms\u001b[22mResult\n",
      "\n"
     ]
    },
    {
     "data": {
      "text/latex": [
       "\\begin{verbatim}\n",
       "kmeans(X, k, [...]) -> KmeansResult\n",
       "\\end{verbatim}\n",
       "K-means clustering of the $d×n$ data matrix \\texttt{X} (each column of \\texttt{X} is a $d$-dimensional data point) into \\texttt{k} clusters.\n",
       "\n",
       "\\section{Arguments}\n",
       "\\begin{itemize}\n",
       "\\item \\texttt{init} (defaults to \\texttt{:kmpp}): how cluster seeds should be initialized, could be one of the following:\n",
       "\n",
       "\\begin{itemize}\n",
       "\\item a \\texttt{Symbol}, the name of a seeding algorithm (see \\href{@ref}{Seeding} for a list of supported methods);\n",
       "\n",
       "\n",
       "\\item an instance of \\href{@ref}{\\texttt{SeedingAlgorithm}};\n",
       "\n",
       "\n",
       "\\item an integer vector of length $k$ that provides the indices of points to use as initial seeds.\n",
       "\n",
       "\\end{itemize}\n",
       "\n",
       "\\item \\texttt{weights}: $n$-element vector of point weights (the cluster centers are the weighted means of cluster members)\n",
       "\n",
       "\n",
       "\\item \\texttt{maxiter}, \\texttt{tol}, \\texttt{display}: see \\href{@ref common_options}{common options}\n",
       "\n",
       "\\end{itemize}\n"
      ],
      "text/markdown": [
       "```\n",
       "kmeans(X, k, [...]) -> KmeansResult\n",
       "```\n",
       "\n",
       "K-means clustering of the $d×n$ data matrix `X` (each column of `X` is a $d$-dimensional data point) into `k` clusters.\n",
       "\n",
       "# Arguments\n",
       "\n",
       "  * `init` (defaults to `:kmpp`): how cluster seeds should be initialized, could be one of the following:\n",
       "\n",
       "      * a `Symbol`, the name of a seeding algorithm (see [Seeding](@ref) for a list of supported methods);\n",
       "      * an instance of [`SeedingAlgorithm`](@ref);\n",
       "      * an integer vector of length $k$ that provides the indices of points to use as initial seeds.\n",
       "  * `weights`: $n$-element vector of point weights (the cluster centers are the weighted means of cluster members)\n",
       "  * `maxiter`, `tol`, `display`: see [common options](@ref common_options)\n"
      ],
      "text/plain": [
       "\u001b[36m  kmeans(X, k, [...]) -> KmeansResult\u001b[39m\n",
       "\n",
       "  K-means clustering of the \u001b[35md×n\u001b[39m data matrix \u001b[36mX\u001b[39m (each column of \u001b[36mX\u001b[39m is a\n",
       "  \u001b[35md\u001b[39m-dimensional data point) into \u001b[36mk\u001b[39m clusters.\n",
       "\n",
       "\u001b[1m  Arguments\u001b[22m\n",
       "\u001b[1m  ≡≡≡≡≡≡≡≡≡≡≡\u001b[22m\n",
       "\n",
       "    •    \u001b[36minit\u001b[39m (defaults to \u001b[36m:kmpp\u001b[39m): how cluster seeds should be initialized,\n",
       "        could be one of the following:\n",
       "      \n",
       "          •    a \u001b[36mSymbol\u001b[39m, the name of a seeding algorithm (see Seeding\n",
       "              for a list of supported methods);\n",
       "      \n",
       "          •    an instance of \u001b[36mSeedingAlgorithm\u001b[39m;\n",
       "      \n",
       "          •    an integer vector of length \u001b[35mk\u001b[39m that provides the indices\n",
       "              of points to use as initial seeds.\n",
       "\n",
       "    •    \u001b[36mweights\u001b[39m: \u001b[35mn\u001b[39m-element vector of point weights (the cluster centers\n",
       "        are the weighted means of cluster members)\n",
       "\n",
       "    •    \u001b[36mmaxiter\u001b[39m, \u001b[36mtol\u001b[39m, \u001b[36mdisplay\u001b[39m: see common options"
      ]
     },
     "execution_count": 22,
     "metadata": {},
     "output_type": "execute_result"
    }
   ],
   "source": [
    "?kmeans"
   ]
  },
  {
   "cell_type": "markdown",
   "metadata": {},
   "source": [
    "## 聚类成 20 个簇"
   ]
  },
  {
   "cell_type": "code",
   "execution_count": 3,
   "metadata": {},
   "outputs": [
    {
     "name": "stdout",
     "output_type": "stream",
     "text": [
      "K-means converged with 40 iterations (objv = 127.82551163341218)\n"
     ]
    },
    {
     "data": {
      "text/plain": [
       "KmeansResult{Array{Float64,2},Float64,Int64}([0.31117481960028537 0.7201716889691059 … 0.2524458266825828 0.815565921405793; 0.3037942946058286 0.7410839612898563 … 0.22921937568182116 0.20346657194506074; … ; 0.30233644985512637 0.7945599664649045 … 0.792836125678468 0.5114011533893357; 0.7774763629960473 0.34986813108547116 … 0.7850886365852006 0.19982295523899046], [7, 13, 13, 4, 1, 2, 20, 6, 14, 11  …  6, 3, 8, 6, 14, 10, 5, 6, 18, 15], [0.13566071777055422, 0.07379793893122333, 0.16347659152486438, 0.1291927345524111, 0.07763022595820601, 0.09659755841263085, 0.09463942001849635, 0.10866863526689619, 0.05788898387800234, 0.07450781180165222  …  0.1335627966591848, 0.15886927873529277, 0.11226657585494126, 0.0908871585295401, 0.10303024451184983, 0.1742931327160946, 0.04356548475073474, 0.14179400095493788, 0.20650432477337777, 0.13782962325065817], [58, 48, 51, 58, 47, 65, 59, 44, 56, 58, 39, 56, 36, 62, 52, 47, 41, 48, 39, 36], [58, 48, 51, 58, 47, 65, 59, 44, 56, 58, 39, 56, 36, 62, 52, 47, 41, 48, 39, 36], 127.82551163341218, 40, true)"
      ]
     },
     "execution_count": 3,
     "metadata": {},
     "output_type": "execute_result"
    }
   ],
   "source": [
    "R = kmeans(X, 20; maxiter=200, display=:final)"
   ]
  },
  {
   "cell_type": "markdown",
   "metadata": {},
   "source": [
    "## 显示每个样本被分配到的簇"
   ]
  },
  {
   "cell_type": "code",
   "execution_count": 4,
   "metadata": {},
   "outputs": [
    {
     "data": {
      "text/plain": [
       "1000-element Array{Int64,1}:\n",
       "  7\n",
       " 13\n",
       " 13\n",
       "  4\n",
       "  1\n",
       "  2\n",
       " 20\n",
       "  6\n",
       " 14\n",
       " 11\n",
       "  2\n",
       "  3\n",
       "  9\n",
       "  ⋮\n",
       "  7\n",
       " 18\n",
       "  6\n",
       "  3\n",
       "  8\n",
       "  6\n",
       " 14\n",
       " 10\n",
       "  5\n",
       "  6\n",
       " 18\n",
       " 15"
      ]
     },
     "execution_count": 4,
     "metadata": {},
     "output_type": "execute_result"
    }
   ],
   "source": [
    "a = assignments(R)"
   ]
  },
  {
   "cell_type": "markdown",
   "metadata": {},
   "source": [
    "## 获取被分到簇 1 的元素索引"
   ]
  },
  {
   "cell_type": "code",
   "execution_count": 21,
   "metadata": {},
   "outputs": [
    {
     "data": {
      "text/plain": [
       "58-element Array{Int64,1}:\n",
       "   5\n",
       "  21\n",
       "  46\n",
       "  58\n",
       "  66\n",
       " 111\n",
       " 149\n",
       " 151\n",
       " 160\n",
       " 199\n",
       " 212\n",
       " 256\n",
       " 265\n",
       "   ⋮\n",
       " 800\n",
       " 807\n",
       " 812\n",
       " 824\n",
       " 848\n",
       " 852\n",
       " 858\n",
       " 860\n",
       " 867\n",
       " 881\n",
       " 891\n",
       " 974"
      ]
     },
     "execution_count": 21,
     "metadata": {},
     "output_type": "execute_result"
    }
   ],
   "source": [
    "findall(a .== 1)"
   ]
  },
  {
   "cell_type": "markdown",
   "metadata": {},
   "source": [
    "## 获取每个簇的样本个数"
   ]
  },
  {
   "cell_type": "code",
   "execution_count": 5,
   "metadata": {},
   "outputs": [
    {
     "data": {
      "text/plain": [
       "20-element Array{Int64,1}:\n",
       " 58\n",
       " 48\n",
       " 51\n",
       " 58\n",
       " 47\n",
       " 65\n",
       " 59\n",
       " 44\n",
       " 56\n",
       " 58\n",
       " 39\n",
       " 56\n",
       " 36\n",
       " 62\n",
       " 52\n",
       " 47\n",
       " 41\n",
       " 48\n",
       " 39\n",
       " 36"
      ]
     },
     "execution_count": 5,
     "metadata": {},
     "output_type": "execute_result"
    }
   ],
   "source": [
    "c = counts(R)"
   ]
  },
  {
   "cell_type": "markdown",
   "metadata": {},
   "source": [
    "# DBSCAN"
   ]
  },
  {
   "cell_type": "code",
   "execution_count": 26,
   "metadata": {},
   "outputs": [
    {
     "name": "stdout",
     "output_type": "stream",
     "text": [
      "search: \u001b[0m\u001b[1md\u001b[22m\u001b[0m\u001b[1mb\u001b[22m\u001b[0m\u001b[1ms\u001b[22m\u001b[0m\u001b[1mc\u001b[22m\u001b[0m\u001b[1ma\u001b[22m\u001b[0m\u001b[1mn\u001b[22m \u001b[0m\u001b[1mD\u001b[22m\u001b[0m\u001b[1mb\u001b[22m\u001b[0m\u001b[1ms\u001b[22m\u001b[0m\u001b[1mc\u001b[22m\u001b[0m\u001b[1ma\u001b[22m\u001b[0m\u001b[1mn\u001b[22mResult \u001b[0m\u001b[1mD\u001b[22m\u001b[0m\u001b[1mb\u001b[22m\u001b[0m\u001b[1ms\u001b[22m\u001b[0m\u001b[1mc\u001b[22m\u001b[0m\u001b[1ma\u001b[22m\u001b[0m\u001b[1mn\u001b[22mCluster\n",
      "\n"
     ]
    },
    {
     "data": {
      "text/latex": [
       "\\begin{verbatim}\n",
       "dbscan(D::AbstractMatrix, eps::Real, minpts::Int) -> DbscanResult\n",
       "\\end{verbatim}\n",
       "Perform DBSCAN algorithm using the distance matrix \\texttt{D}.\n",
       "\n",
       "\\section{Arguments}\n",
       "The following options control which points would be considered \\emph{density reachable}:\n",
       "\n",
       "\\begin{itemize}\n",
       "\\item \\texttt{eps::Real}: the radius of a point neighborhood\n",
       "\n",
       "\n",
       "\\item \\texttt{minpts::Int}: the minimum number of neighboring points (including itself)  to qualify a point as a density point.\n",
       "\n",
       "\\end{itemize}\n",
       "\\rule{\\textwidth}{1pt}\n",
       "\\begin{verbatim}\n",
       "dbscan(points::AbstractMatrix, radius::Real,\n",
       "       [leafsize], [min_neighbors], [min_cluster_size]) -> Vector{DbscanCluster}\n",
       "\\end{verbatim}\n",
       "Cluster \\texttt{points} using the DBSCAN (density-based spatial clustering of applications with noise) algorithm.\n",
       "\n",
       "\\section{Arguments}\n",
       "\\begin{itemize}\n",
       "\\item \\texttt{points}: the $d×n$ matrix of points. \\texttt{points[:, j]} is a $d$-dimensional coordinates of $j$-th point\n",
       "\n",
       "\n",
       "\\item \\texttt{radius::Real}: query radius\n",
       "\n",
       "\\end{itemize}\n",
       "Optional keyword arguments to control the algorithm:\n",
       "\n",
       "\\begin{itemize}\n",
       "\\item \\texttt{leafsize::Int} (defaults to 20): the number of points binned in each leaf node in the \\texttt{KDTree}\n",
       "\n",
       "\n",
       "\\item \\texttt{min\\_neighbors::Int} (defaults to 1): the minimum number of a \\emph{core} point neighbors\n",
       "\n",
       "\n",
       "\\item \\texttt{min\\_cluster\\_size::Int} (defaults to 1): the minimum number of points in a valid cluster\n",
       "\n",
       "\\end{itemize}\n",
       "\\section{Example}\n",
       "\\begin{verbatim}\n",
       "points = randn(3, 10000)\n",
       "# DBSCAN clustering, clusters with less than 20 points will be discarded:\n",
       "clusters = dbscan(points, 0.05, min_neighbors = 3, min_cluster_size = 20)\n",
       "\\end{verbatim}\n"
      ],
      "text/markdown": [
       "```\n",
       "dbscan(D::AbstractMatrix, eps::Real, minpts::Int) -> DbscanResult\n",
       "```\n",
       "\n",
       "Perform DBSCAN algorithm using the distance matrix `D`.\n",
       "\n",
       "# Arguments\n",
       "\n",
       "The following options control which points would be considered *density reachable*:\n",
       "\n",
       "  * `eps::Real`: the radius of a point neighborhood\n",
       "  * `minpts::Int`: the minimum number of neighboring points (including itself)  to qualify a point as a density point.\n",
       "\n",
       "---\n",
       "\n",
       "```\n",
       "dbscan(points::AbstractMatrix, radius::Real,\n",
       "       [leafsize], [min_neighbors], [min_cluster_size]) -> Vector{DbscanCluster}\n",
       "```\n",
       "\n",
       "Cluster `points` using the DBSCAN (density-based spatial clustering of applications with noise) algorithm.\n",
       "\n",
       "# Arguments\n",
       "\n",
       "  * `points`: the $d×n$ matrix of points. `points[:, j]` is a $d$-dimensional coordinates of $j$-th point\n",
       "  * `radius::Real`: query radius\n",
       "\n",
       "Optional keyword arguments to control the algorithm:\n",
       "\n",
       "  * `leafsize::Int` (defaults to 20): the number of points binned in each leaf node in the `KDTree`\n",
       "  * `min_neighbors::Int` (defaults to 1): the minimum number of a *core* point neighbors\n",
       "  * `min_cluster_size::Int` (defaults to 1): the minimum number of points in a valid cluster\n",
       "\n",
       "# Example\n",
       "\n",
       "```julia\n",
       "points = randn(3, 10000)\n",
       "# DBSCAN clustering, clusters with less than 20 points will be discarded:\n",
       "clusters = dbscan(points, 0.05, min_neighbors = 3, min_cluster_size = 20)\n",
       "```\n"
      ],
      "text/plain": [
       "\u001b[36m  dbscan(D::AbstractMatrix, eps::Real, minpts::Int) -> DbscanResult\u001b[39m\n",
       "\n",
       "  Perform DBSCAN algorithm using the distance matrix \u001b[36mD\u001b[39m.\n",
       "\n",
       "\u001b[1m  Arguments\u001b[22m\n",
       "\u001b[1m  ≡≡≡≡≡≡≡≡≡≡≡\u001b[22m\n",
       "\n",
       "  The following options control which points would be considered \u001b[4mdensity\n",
       "  reachable\u001b[24m:\n",
       "\n",
       "    •    \u001b[36meps::Real\u001b[39m: the radius of a point neighborhood\n",
       "\n",
       "    •    \u001b[36mminpts::Int\u001b[39m: the minimum number of neighboring points (including\n",
       "        itself) to qualify a point as a density point.\n",
       "\n",
       "  ────────────────────────────────────────────────────────────────────────────\n",
       "\n",
       "\u001b[36m  dbscan(points::AbstractMatrix, radius::Real,\u001b[39m\n",
       "\u001b[36m         [leafsize], [min_neighbors], [min_cluster_size]) -> Vector{DbscanCluster}\u001b[39m\n",
       "\n",
       "  Cluster \u001b[36mpoints\u001b[39m using the DBSCAN (density-based spatial clustering of\n",
       "  applications with noise) algorithm.\n",
       "\n",
       "\u001b[1m  Arguments\u001b[22m\n",
       "\u001b[1m  ≡≡≡≡≡≡≡≡≡≡≡\u001b[22m\n",
       "\n",
       "    •    \u001b[36mpoints\u001b[39m: the \u001b[35md×n\u001b[39m matrix of points. \u001b[36mpoints[:, j]\u001b[39m is a \u001b[35md\u001b[39m-dimensional\n",
       "        coordinates of \u001b[35mj\u001b[39m-th point\n",
       "\n",
       "    •    \u001b[36mradius::Real\u001b[39m: query radius\n",
       "\n",
       "  Optional keyword arguments to control the algorithm:\n",
       "\n",
       "    •    \u001b[36mleafsize::Int\u001b[39m (defaults to 20): the number of points binned in\n",
       "        each leaf node in the \u001b[36mKDTree\u001b[39m\n",
       "\n",
       "    •    \u001b[36mmin_neighbors::Int\u001b[39m (defaults to 1): the minimum number of a \u001b[4mcore\u001b[24m\n",
       "        point neighbors\n",
       "\n",
       "    •    \u001b[36mmin_cluster_size::Int\u001b[39m (defaults to 1): the minimum number of\n",
       "        points in a valid cluster\n",
       "\n",
       "\u001b[1m  Example\u001b[22m\n",
       "\u001b[1m  ≡≡≡≡≡≡≡≡≡\u001b[22m\n",
       "\n",
       "\u001b[36m  points = randn(3, 10000)\u001b[39m\n",
       "\u001b[36m  # DBSCAN clustering, clusters with less than 20 points will be discarded:\u001b[39m\n",
       "\u001b[36m  clusters = dbscan(points, 0.05, min_neighbors = 3, min_cluster_size = 20)\u001b[39m"
      ]
     },
     "execution_count": 26,
     "metadata": {},
     "output_type": "execute_result"
    }
   ],
   "source": [
    "?dbscan"
   ]
  },
  {
   "cell_type": "code",
   "execution_count": 47,
   "metadata": {},
   "outputs": [
    {
     "data": {
      "text/plain": [
       "3×10000 Array{Float64,2}:\n",
       "  1.67374  -0.560435  -0.231255  …  -0.976792   0.401322  -0.655295\n",
       "  1.26817  -0.129456   0.730166      0.70023   -1.24888    0.0246569\n",
       " -1.34191  -0.271386   0.555277      0.182144   1.35678   -2.73693"
      ]
     },
     "execution_count": 47,
     "metadata": {},
     "output_type": "execute_result"
    }
   ],
   "source": [
    "points = randn(3, 10000)"
   ]
  },
  {
   "cell_type": "code",
   "execution_count": 58,
   "metadata": {},
   "outputs": [
    {
     "data": {
      "text/plain": [
       "51-element Array{DbscanCluster,1}:\n",
       " DbscanCluster(19, [7, 233, 907, 1220, 1933, 2424, 3748, 4349, 6524, 7307], [3091, 3259, 4840, 5026, 6250, 7091, 8586, 9178, 9205])\n",
       " DbscanCluster(60, [15, 419, 684, 1034, 1232, 1477, 1618, 1967, 2060, 2468  …  7749, 7915, 8485, 8605, 8723, 8898, 8903, 8963, 8968, 9041], [259, 725, 1953, 2082, 2314, 2736, 3310, 3580, 4902, 4959  …  5913, 5969, 6001, 6490, 7048, 7513, 7692, 8946, 9553, 9801])\n",
       " DbscanCluster(11, [26, 3132, 3455, 3456, 6014, 9291, 9880], [584, 4036, 5994, 6375])\n",
       " DbscanCluster(13, [51, 1387, 5462, 6061, 6503, 7015, 8539, 8625, 9094], [1598, 3219, 3424, 4672])\n",
       " DbscanCluster(20, [54, 1398, 1442, 2213, 2936, 3662, 5441, 6863, 7524, 8793, 9665, 9687, 9827], [2274, 2298, 3956, 4286, 6394, 8672, 9606])\n",
       " DbscanCluster(21, [61, 344, 3087, 3557, 5842, 6129, 8331, 8349, 8665, 9727, 9925], [44, 112, 265, 4862, 6402, 7232, 7520, 7976, 8796, 9546])\n",
       " DbscanCluster(13, [146, 1531, 2963, 3569, 4244, 6698, 8581], [1579, 2012, 5460, 6898, 7791, 8149])\n",
       " DbscanCluster(10, [152, 1528, 4562], [764, 1008, 1227, 2342, 3491, 3648, 5446])\n",
       " DbscanCluster(25, [157, 588, 1715, 2023, 2944, 5053, 5211, 5654, 7124, 7239, 7272, 9660, 9824, 9924], [1053, 1124, 1482, 2062, 3279, 4053, 7387, 8516, 8992, 9314, 9693])\n",
       " DbscanCluster(18, [185, 388, 458, 4520, 7540, 7636, 8112, 8874], [996, 1356, 1370, 2128, 2402, 2537, 6720, 7784, 9619, 9740])\n",
       " DbscanCluster(15, [197, 2705, 4162, 5001, 5215, 6068, 6976, 7194, 9753], [316, 2547, 2863, 5951, 6132, 6475])\n",
       " DbscanCluster(12, [213, 750, 1152, 1525, 2912, 3400], [296, 792, 6018, 8385, 8510, 8678])\n",
       " DbscanCluster(11, [219, 2295, 5267, 6637, 7726], [435, 2197, 4787, 5294, 6609, 8283])\n",
       " ⋮\n",
       " DbscanCluster(10, [1333, 3391, 5685, 6080, 7266, 8018], [1084, 1467, 1728, 3775])\n",
       " DbscanCluster(10, [1339, 1405, 1985, 3427, 7639], [3726, 3981, 7519, 7635, 7786])\n",
       " DbscanCluster(18, [1558, 2034, 2702, 3450, 3561, 4393, 4813, 6636, 8494], [1123, 2479, 2837, 2887, 3207, 5950, 7877, 9402, 9541])\n",
       " DbscanCluster(11, [1615, 1763, 1980, 3308, 9051, 9657], [979, 1600, 4429, 4862, 9546])\n",
       " DbscanCluster(11, [1624, 2692, 4321, 6795, 9320, 9352, 9876], [2477, 3436, 5138, 7613])\n",
       " DbscanCluster(14, [1797, 2757, 3368, 7462, 8292, 8514, 9196, 9538], [872, 1847, 3016, 3788, 8747, 9849])\n",
       " DbscanCluster(10, [1867, 2475, 9629, 9697], [1943, 2129, 4368, 9181, 9698, 9748])\n",
       " DbscanCluster(10, [2233, 2798, 3100, 6567, 8052, 9413], [1824, 2919, 3949, 6233])\n",
       " DbscanCluster(15, [3204, 4305, 5448, 5801, 6262, 6932, 8519, 8917, 9889, 9987], [7781, 7954, 8364, 9031, 9519])\n",
       " DbscanCluster(10, [3719, 6037, 7457, 8570, 8941], [1337, 3388, 5314, 7736, 8040])\n",
       " DbscanCluster(11, [3765, 5066, 5700, 6764, 9337, 9386, 9599], [853, 4135, 4340, 7225])\n",
       " DbscanCluster(10, [4597, 5639, 7031, 8905, 9022, 9214], [3825, 7204, 8651, 9111])"
      ]
     },
     "execution_count": 58,
     "metadata": {},
     "output_type": "execute_result"
    }
   ],
   "source": [
    "# DBSCAN clustering, clusters with less than 20 points will be discarded:\n",
    "clusters = dbscan(points, 0.1, min_neighbors = 3, min_cluster_size = 10)"
   ]
  },
  {
   "cell_type": "code",
   "execution_count": 63,
   "metadata": {},
   "outputs": [
    {
     "data": {
      "text/plain": [
       "DbscanCluster(19, [7, 233, 907, 1220, 1933, 2424, 3748, 4349, 6524, 7307], [3091, 3259, 4840, 5026, 6250, 7091, 8586, 9178, 9205])"
      ]
     },
     "execution_count": 63,
     "metadata": {},
     "output_type": "execute_result"
    }
   ],
   "source": [
    "clusters[1]"
   ]
  },
  {
   "cell_type": "code",
   "execution_count": 65,
   "metadata": {},
   "outputs": [
    {
     "data": {
      "text/plain": [
       "19"
      ]
     },
     "execution_count": 65,
     "metadata": {},
     "output_type": "execute_result"
    }
   ],
   "source": [
    "clusters[1].size"
   ]
  },
  {
   "cell_type": "code",
   "execution_count": 66,
   "metadata": {},
   "outputs": [
    {
     "data": {
      "text/plain": [
       "10-element Array{Int64,1}:\n",
       "    7\n",
       "  233\n",
       "  907\n",
       " 1220\n",
       " 1933\n",
       " 2424\n",
       " 3748\n",
       " 4349\n",
       " 6524\n",
       " 7307"
      ]
     },
     "execution_count": 66,
     "metadata": {},
     "output_type": "execute_result"
    }
   ],
   "source": [
    "clusters[1].core_indices"
   ]
  }
 ],
 "metadata": {
  "kernelspec": {
   "display_name": "Julia 1.5.0",
   "language": "julia",
   "name": "julia-1.5"
  },
  "language_info": {
   "file_extension": ".jl",
   "mimetype": "application/julia",
   "name": "julia",
   "version": "1.5.0"
  }
 },
 "nbformat": 4,
 "nbformat_minor": 4
}
