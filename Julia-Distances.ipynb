{
 "cells": [
  {
   "cell_type": "code",
   "execution_count": 1,
   "metadata": {},
   "outputs": [],
   "source": [
    "using Distances"
   ]
  },
  {
   "cell_type": "code",
   "execution_count": 15,
   "metadata": {},
   "outputs": [
    {
     "data": {
      "text/plain": [
       "5×100 Array{Float64,2}:\n",
       "  1.09198     0.545623  -0.275605  …  -0.350962    -0.657461   0.0095421\n",
       "  0.078214    0.264713   0.54164       0.746992     0.957046   0.676359\n",
       " -0.159736   -0.583482   0.196586     -0.850097     0.197682  -0.772556\n",
       "  0.892971    0.939675   2.00271      -0.00225982  -0.506262  -0.633471\n",
       " -0.0537657   0.145403  -1.03185       0.353912     0.957951  -0.237575"
      ]
     },
     "execution_count": 15,
     "metadata": {},
     "output_type": "execute_result"
    }
   ],
   "source": [
    "A = randn(5, 100)"
   ]
  },
  {
   "cell_type": "code",
   "execution_count": 16,
   "metadata": {},
   "outputs": [
    {
     "data": {
      "text/plain": [
       "5×100 Array{Float64,2}:\n",
       "  0.387146  -0.570594     0.539641  …  -0.785674  -0.57668   -0.0920835\n",
       "  1.98642   -0.49614      0.722543     -0.561229  -0.696278  -1.48628\n",
       "  0.968904  -1.5576      -0.561243     -0.677393  -0.383965  -0.925774\n",
       " -0.432499   0.00735758  -0.627995     -1.99832    0.116851  -0.0136147\n",
       "  1.06663   -0.980189     0.294994      1.3473     1.99063    0.139695"
      ]
     },
     "execution_count": 16,
     "metadata": {},
     "output_type": "execute_result"
    }
   ],
   "source": [
    "B = randn(5, 100)"
   ]
  },
  {
   "cell_type": "markdown",
   "metadata": {},
   "source": [
    "## Computing the distance between two vectors"
   ]
  },
  {
   "cell_type": "code",
   "execution_count": 17,
   "metadata": {},
   "outputs": [],
   "source": [
    "x = A[:, 1]\n",
    "y = A[:, 2];"
   ]
  },
  {
   "cell_type": "code",
   "execution_count": 18,
   "metadata": {},
   "outputs": [
    {
     "data": {
      "text/plain": [
       "0.7447796280407855"
      ]
     },
     "execution_count": 18,
     "metadata": {},
     "output_type": "execute_result"
    }
   ],
   "source": [
    "Euclidean()(x, y)"
   ]
  },
  {
   "cell_type": "code",
   "execution_count": 19,
   "metadata": {},
   "outputs": [
    {
     "data": {
      "text/plain": [
       "0.14703678885132576"
      ]
     },
     "execution_count": 19,
     "metadata": {},
     "output_type": "execute_result"
    }
   ],
   "source": [
    "CosineDist()(x, y)"
   ]
  },
  {
   "cell_type": "code",
   "execution_count": 20,
   "metadata": {},
   "outputs": [
    {
     "data": {
      "text/plain": [
       "0.7447796280407855"
      ]
     },
     "execution_count": 20,
     "metadata": {},
     "output_type": "execute_result"
    }
   ],
   "source": [
    "euclidean(x, y)"
   ]
  },
  {
   "cell_type": "code",
   "execution_count": 21,
   "metadata": {},
   "outputs": [
    {
     "data": {
      "text/plain": [
       "0.14703678885132576"
      ]
     },
     "execution_count": 21,
     "metadata": {},
     "output_type": "execute_result"
    }
   ],
   "source": [
    "cosine_dist(x, y)"
   ]
  },
  {
   "cell_type": "markdown",
   "metadata": {},
   "source": [
    "## Computing distances between corresponding columns\n",
    "\n",
    "对两个矩阵 `A, B` 的每一列计算相似度"
   ]
  },
  {
   "cell_type": "code",
   "execution_count": 23,
   "metadata": {},
   "outputs": [
    {
     "data": {
      "text/plain": [
       "100-element Array{Float64,1}:\n",
       " 2.9024136929347795\n",
       " 2.2158344098128167\n",
       " 3.1548036050232984\n",
       " 3.8701350916616426\n",
       " 1.3331624165108469\n",
       " 1.7123998518861419\n",
       " 2.891020062781815\n",
       " 2.9565974358430953\n",
       " 1.5249972149796922\n",
       " 2.0740949041590606\n",
       " 2.2045542635417594\n",
       " 3.4014951377540625\n",
       " 2.4974200425128648\n",
       " ⋮\n",
       " 2.5709278564346314\n",
       " 2.593793295114429\n",
       " 2.401568108374444\n",
       " 2.9778441034919205\n",
       " 2.1786211271991385\n",
       " 3.0048704004559372\n",
       " 1.6943154083541037\n",
       " 3.4434293785271124\n",
       " 3.8968571072434237\n",
       " 2.6270350921634362\n",
       " 2.1290858750651673\n",
       " 2.288533095494258"
      ]
     },
     "execution_count": 23,
     "metadata": {},
     "output_type": "execute_result"
    }
   ],
   "source": [
    "colwise(Euclidean(), A, B)"
   ]
  },
  {
   "cell_type": "code",
   "execution_count": 25,
   "metadata": {},
   "outputs": [
    {
     "data": {
      "text/plain": [
       "2.9024136929347795"
      ]
     },
     "execution_count": 25,
     "metadata": {},
     "output_type": "execute_result"
    }
   ],
   "source": [
    "euclidean(A[:, 1], B[:, 1])"
   ]
  },
  {
   "cell_type": "markdown",
   "metadata": {},
   "source": [
    "## Computing pairwise distances\n",
    "\n",
    "`R[i,j]` is the distance between `X[:,i]` and `X[:,j]`"
   ]
  },
  {
   "cell_type": "code",
   "execution_count": 28,
   "metadata": {},
   "outputs": [
    {
     "data": {
      "text/plain": [
       "100×100 Array{Float64,2}:\n",
       " 0.0      0.74478  2.09766  2.34113   …  1.76021  1.99338   2.63478  2.06611\n",
       " 0.74478  0.0      1.96865  1.85952      2.07824  1.42768   2.29955  1.76466\n",
       " 2.09766  1.96865  0.0      1.5843       2.58982  2.66151   3.25156  2.93582\n",
       " 2.34113  1.85952  1.5843   0.0          2.87755  1.79702   2.09817  2.44879\n",
       " 2.50468  2.63663  2.52086  2.32614      3.15357  3.20412   2.82464  3.57189\n",
       " 2.03092  2.16935  2.69553  2.53495   …  2.18447  2.23968   2.01432  2.08489\n",
       " 3.50401  3.02383  3.5792   3.00762      3.88139  2.17489   2.77555  2.22965\n",
       " 4.00227  3.98501  3.91302  4.01217      3.83068  3.67992   3.73341  3.28964\n",
       " 1.84311  1.53001  2.40542  1.6611       2.15421  0.982205  1.0768   1.2184\n",
       " 2.56069  2.1653   2.74381  1.75121      3.74047  2.32912   2.28041  3.10504\n",
       " 2.41957  2.65285  2.92114  2.73312   …  2.47064  2.84694   2.2858   2.81739\n",
       " 2.551    2.01334  1.48182  0.815631     3.33113  2.12934   2.72212  2.79335\n",
       " 2.04513  1.98706  2.47797  2.15725      2.54531  1.98409   1.88911  2.05555\n",
       " ⋮                                    ⋱                              \n",
       " 2.41021  2.28023  2.96741  2.97215      2.8301   2.15331   2.74637  1.85553\n",
       " 2.34706  2.07609  2.72626  1.88208      2.57678  1.43615   1.01849  1.63341\n",
       " 2.78803  2.32776  3.25106  1.85365   …  3.3459   1.63236   1.02294  2.36593\n",
       " 2.05571  2.38193  3.53922  3.43022      1.90155  2.48646   2.39603  1.99712\n",
       " 3.25307  3.65625  3.95332  4.31941      2.45486  3.79273   3.71079  3.13124\n",
       " 2.68451  2.20021  1.70784  1.16474      3.6846   2.48217   2.95044  3.18808\n",
       " 1.34992  1.57555  2.58517  2.29506      1.65179  1.94164   1.78824  1.95717\n",
       " 1.81445  1.7099   3.03645  2.33069   …  2.53091  1.63335   1.32642  1.89317\n",
       " 1.76021  2.07824  2.58982  2.87755      0.0      2.42195   2.74698  1.95546\n",
       " 1.99338  1.42768  2.66151  1.79702      2.42195  0.0       1.3619   0.943\n",
       " 2.63478  2.29955  3.25156  2.09817      2.74698  1.3619    0.0      1.70602\n",
       " 2.06611  1.76466  2.93582  2.44879      1.95546  0.943     1.70602  0.0"
      ]
     },
     "execution_count": 28,
     "metadata": {},
     "output_type": "execute_result"
    }
   ],
   "source": [
    "R = pairwise(Euclidean(), A, dims=2)"
   ]
  },
  {
   "cell_type": "code",
   "execution_count": 29,
   "metadata": {},
   "outputs": [
    {
     "data": {
      "text/plain": [
       "0.7447796280407855"
      ]
     },
     "execution_count": 29,
     "metadata": {},
     "output_type": "execute_result"
    }
   ],
   "source": [
    "euclidean(A[:, 1], A[:, 2])"
   ]
  }
 ],
 "metadata": {
  "kernelspec": {
   "display_name": "Julia 1.5.0",
   "language": "julia",
   "name": "julia-1.5"
  },
  "language_info": {
   "file_extension": ".jl",
   "mimetype": "application/julia",
   "name": "julia",
   "version": "1.5.0"
  }
 },
 "nbformat": 4,
 "nbformat_minor": 4
}
