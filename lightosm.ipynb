{
 "cells": [
  {
   "cell_type": "code",
   "execution_count": 1,
   "metadata": {},
   "outputs": [],
   "source": [
    "using LightOSM\n",
    "using Random\n",
    "using BenchmarkTools\n",
    "using LightOSM\n",
    "using StatsBase\n",
    "Random.seed!(1234);"
   ]
  },
  {
   "cell_type": "markdown",
   "metadata": {},
   "source": [
    "## 下载地图数据\n",
    "有三种方式：\n",
    "\n",
    "- place\n",
    "- bbox\n",
    "- point"
   ]
  },
  {
   "cell_type": "code",
   "execution_count": null,
   "metadata": {},
   "outputs": [],
   "source": [
    "# 下载一个区域\n",
    "data = download_osm_network(:bbox; save_to_file_location=\"data/beijing.osm\", minlat=39.8267, minlon=116.2636, maxlat=39.9908, maxlon=116.4903);"
   ]
  },
  {
   "cell_type": "markdown",
   "metadata": {},
   "source": [
    "## 从地图数据构建对象\n",
    "- graph_from_object 从对象\n",
    "- graph_from_download 下载并创建\n",
    "- graph_from_object 从文件"
   ]
  },
  {
   "cell_type": "code",
   "execution_count": null,
   "metadata": {},
   "outputs": [],
   "source": [
    "# 从之前下载的对象\n",
    "g = graph_from_object(data, weight_type=:distance);"
   ]
  },
  {
   "cell_type": "code",
   "execution_count": 3,
   "metadata": {},
   "outputs": [
    {
     "name": "stderr",
     "output_type": "stream",
     "text": [
      "┌ Info: Created OSMGraph object with kwargs: network_type=drive, weight_type=distance, graph_type=static, precompute_dijkstra_states=false, largest_connected_component=true\n",
      "└ @ LightOSM /home/chenniu/.julia/packages/LightOSM/jlfp9/src/graph.jl:47\n"
     ]
    }
   ],
   "source": [
    "# 从下载的文件\n",
    "g = graph_from_file(\"data/beijing.osm\", weight_type=:distance);"
   ]
  },
  {
   "cell_type": "markdown",
   "metadata": {},
   "source": [
    "## 获取节点"
   ]
  },
  {
   "cell_type": "code",
   "execution_count": 4,
   "metadata": {},
   "outputs": [],
   "source": [
    "# 所有节点\n",
    "nodes = keys(g.nodes) |> collect;"
   ]
  },
  {
   "cell_type": "code",
   "execution_count": 5,
   "metadata": {},
   "outputs": [
    {
     "data": {
      "text/plain": [
       "44422"
      ]
     },
     "execution_count": 5,
     "metadata": {},
     "output_type": "execute_result"
    }
   ],
   "source": [
    "length(nodes)"
   ]
  },
  {
   "cell_type": "code",
   "execution_count": 6,
   "metadata": {},
   "outputs": [],
   "source": [
    "origs = sample(nodes, 1000)\n",
    "dests = sample(nodes, 1000)\n",
    "od = zip(origs, dests) |> collect;"
   ]
  },
  {
   "cell_type": "code",
   "execution_count": 7,
   "metadata": {},
   "outputs": [],
   "source": [
    "n1 = g.nodes[1230361512]\n",
    "n2 = g.nodes[5172728454];"
   ]
  },
  {
   "cell_type": "code",
   "execution_count": 8,
   "metadata": {},
   "outputs": [],
   "source": [
    "### 节点经纬度"
   ]
  },
  {
   "cell_type": "code",
   "execution_count": 9,
   "metadata": {},
   "outputs": [
    {
     "data": {
      "text/plain": [
       "(39.8513049, 116.2799398)"
      ]
     },
     "execution_count": 9,
     "metadata": {},
     "output_type": "execute_result"
    }
   ],
   "source": [
    "n1.location.lat, n1.location.lon"
   ]
  },
  {
   "cell_type": "markdown",
   "metadata": {},
   "source": [
    "### 计算节点之间的距离"
   ]
  },
  {
   "cell_type": "code",
   "execution_count": 10,
   "metadata": {},
   "outputs": [
    {
     "data": {
      "text/plain": [
       "2.292438979288037"
      ]
     },
     "execution_count": 10,
     "metadata": {},
     "output_type": "execute_result"
    }
   ],
   "source": [
    "distance(n1, n2) # km"
   ]
  },
  {
   "cell_type": "markdown",
   "metadata": {},
   "source": [
    "### 计算角度"
   ]
  },
  {
   "cell_type": "code",
   "execution_count": 11,
   "metadata": {},
   "outputs": [
    {
     "data": {
      "text/plain": [
       "143.75721269536155"
      ]
     },
     "execution_count": 11,
     "metadata": {},
     "output_type": "execute_result"
    }
   ],
   "source": [
    "heading(n1, n2) # degrees from North"
   ]
  },
  {
   "cell_type": "markdown",
   "metadata": {},
   "source": [
    "## 计算最短路径"
   ]
  },
  {
   "cell_type": "code",
   "execution_count": 12,
   "metadata": {},
   "outputs": [
    {
     "data": {
      "text/plain": [
       "shortest_safe (generic function with 1 method)"
      ]
     },
     "execution_count": 12,
     "metadata": {},
     "output_type": "execute_result"
    }
   ],
   "source": [
    "function shortest_safe(g::OSMGraph, n1::Int64, n2::Int64)\n",
    "    try\n",
    "        shortest_path(g, n1, n2, algorithm=:astar)\n",
    "    catch\n",
    "        Int[]\n",
    "    end\n",
    "end"
   ]
  },
  {
   "cell_type": "code",
   "execution_count": 14,
   "metadata": {},
   "outputs": [
    {
     "data": {
      "text/plain": [
       "115-element Array{Int64,1}:\n",
       "   35835755\n",
       " 1807791765\n",
       " 3071671562\n",
       "  244887119\n",
       "  260726382\n",
       "   30993647\n",
       " 1807791797\n",
       " 1807791800\n",
       " 1807791805\n",
       "   30993644\n",
       "   66420639\n",
       "   30993643\n",
       " 1807791814\n",
       "          ⋮\n",
       "  288190967\n",
       " 3060379044\n",
       "  288191077\n",
       "  528923583\n",
       "  528923616\n",
       " 1293134755\n",
       "  321557747\n",
       " 1293134766\n",
       " 1771677052\n",
       "  380731617\n",
       "  288193610\n",
       " 1771677049"
      ]
     },
     "execution_count": 14,
     "metadata": {},
     "output_type": "execute_result"
    }
   ],
   "source": [
    "route = shortest_safe(g, od[1]...)"
   ]
  },
  {
   "cell_type": "code",
   "execution_count": 15,
   "metadata": {},
   "outputs": [
    {
     "name": "stdout",
     "output_type": "stream",
     "text": [
      "  1.709 ms (576 allocations: 543.00 KiB)\n"
     ]
    },
    {
     "data": {
      "text/plain": [
       "115-element Array{Int64,1}:\n",
       "   35835755\n",
       " 1807791765\n",
       " 3071671562\n",
       "  244887119\n",
       "  260726382\n",
       "   30993647\n",
       " 1807791797\n",
       " 1807791800\n",
       " 1807791805\n",
       "   30993644\n",
       "   66420639\n",
       "   30993643\n",
       " 1807791814\n",
       "          ⋮\n",
       "  288190967\n",
       " 3060379044\n",
       "  288191077\n",
       "  528923583\n",
       "  528923616\n",
       " 1293134755\n",
       "  321557747\n",
       " 1293134766\n",
       " 1771677052\n",
       "  380731617\n",
       "  288193610\n",
       " 1771677049"
      ]
     },
     "execution_count": 15,
     "metadata": {},
     "output_type": "execute_result"
    }
   ],
   "source": [
    "@btime shortest_safe(g, od[1]...)"
   ]
  },
  {
   "cell_type": "markdown",
   "metadata": {},
   "source": [
    "## 计算路径长度"
   ]
  },
  {
   "cell_type": "code",
   "execution_count": 16,
   "metadata": {},
   "outputs": [
    {
     "data": {
      "text/plain": [
       "get_distance (generic function with 1 method)"
      ]
     },
     "execution_count": 16,
     "metadata": {},
     "output_type": "execute_result"
    }
   ],
   "source": [
    "function get_distance(g::OSMGraph, path::Array)\n",
    "    weights = weights_from_path(g, path)\n",
    "    cum_weights = cumsum(weights)\n",
    "    total_distance = round(cum_weights[end], digits=2)\n",
    "    total_distance\n",
    "end"
   ]
  },
  {
   "cell_type": "code",
   "execution_count": 17,
   "metadata": {},
   "outputs": [
    {
     "data": {
      "text/plain": [
       "19.53"
      ]
     },
     "execution_count": 17,
     "metadata": {},
     "output_type": "execute_result"
    }
   ],
   "source": [
    "get_distance(g, route) # km"
   ]
  }
 ],
 "metadata": {
  "@webio": {
   "lastCommId": null,
   "lastKernelId": null
  },
  "kernelspec": {
   "display_name": "Julia 1.5.0",
   "language": "julia",
   "name": "julia-1.5"
  },
  "language_info": {
   "file_extension": ".jl",
   "mimetype": "application/julia",
   "name": "julia",
   "version": "1.5.0"
  }
 },
 "nbformat": 4,
 "nbformat_minor": 4
}
